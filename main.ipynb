{
 "cells": [
  {
   "cell_type": "code",
   "execution_count": null,
   "metadata": {},
   "outputs": [],
   "source": [
    "import importlib\n",
    "\n",
    "import matplotlib.pyplot as plt\n",
    "from matplotlib import colors\n",
    "\n",
    "from deep_3dmm_refinement._3DMM import _3DMM\n",
    "import fitting\n",
    "import landmarks"
   ]
  },
  {
   "cell_type": "code",
   "execution_count": null,
   "metadata": {},
   "outputs": [],
   "source": [
    "importlib.reload(fitting)\n",
    "importlib.reload(landmarks)"
   ]
  },
  {
   "cell_type": "code",
   "execution_count": null,
   "metadata": {
    "scrolled": true
   },
   "outputs": [],
   "source": [
    "preds = landmarks.lm_dir('LR/claudio_ferrari/', 0, True)\n",
    "\n",
    "result = fitting.fit_3dmm(preds)\n",
    "\n",
    "for k in result:\n",
    "    print(k, result[k].shape)\n",
    "\n",
    "fig = plt.figure()\n",
    "ax = fig.add_subplot(1, 1, 1, projection='3d', elev=90, azim=-90)\n",
    "#ax.mouse_init()\n",
    "#ax.view_init(90, -90)\n",
    "\n",
    "def_shape = result['defShape']\n",
    "print(def_shape.shape)\n",
    "ax.scatter3D(*def_shape.transpose(), s=1, c=def_shape[:, 2])\n",
    "#ax.plot_trisurf(*result['defShape'].transpose(), cmap='viridis')"
   ]
  },
  {
   "cell_type": "code",
   "execution_count": null,
   "metadata": {
    "scrolled": true
   },
   "outputs": [],
   "source": [
    "preds1 = landmarks.lm_dir('LR/claudio_ferrari/', 2, True)\n",
    "\n",
    "b = result['defShape'].copy()\n",
    "\n",
    "result1 = fitting.fit_3dmm1(preds1, result['defShape'])\n",
    "print(result['defShape'])\n",
    "\n",
    "errors = landmarks.models_error(b, result1['defShape'])\n",
    "\n",
    "\n",
    "fig = plt.figure()\n",
    "ax = fig.add_subplot(1, 1, 1, projection='3d')\n",
    "ax.view_init(90, -90)\n",
    "\n",
    "#ax.plot_trisurf(*result1['defShape'].transpose(), cmap='viridis')\n",
    "a = ax.scatter3D(*result1['defShape'].transpose(), s=1, c=errors, cmap='jet', norm=colors.PowerNorm(gamma=0.75))\n",
    "\n",
    "fig.colorbar(a)"
   ]
  },
  {
   "cell_type": "code",
   "execution_count": null,
   "metadata": {},
   "outputs": [],
   "source": [
    "print(errors.mean())"
   ]
  },
  {
   "cell_type": "code",
   "execution_count": null,
   "metadata": {},
   "outputs": [],
   "source": []
  }
 ],
 "metadata": {
  "kernelspec": {
   "display_name": "Python 3",
   "language": "python",
   "name": "python3"
  },
  "language_info": {
   "codemirror_mode": {
    "name": "ipython",
    "version": 3
   },
   "file_extension": ".py",
   "mimetype": "text/x-python",
   "name": "python",
   "nbconvert_exporter": "python",
   "pygments_lexer": "ipython3",
   "version": "3.9.5"
  }
 },
 "nbformat": 4,
 "nbformat_minor": 4
}
