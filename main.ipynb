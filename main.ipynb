{
 "cells": [
  {
   "cell_type": "code",
   "execution_count": 1,
   "metadata": {},
   "outputs": [
    {
     "name": "stderr",
     "output_type": "stream",
     "text": [
      "/home/mint/.local/lib/python3.8/site-packages/skimage/io/manage_plugins.py:23: UserWarning: Your installed pillow version is < 7.1.0. Several security issues (CVE-2020-11538, CVE-2020-10379, CVE-2020-10994, CVE-2020-10177) have been fixed in pillow 7.1.0 or higher. We recommend to upgrade this library.\n",
      "  from .collection import imread_collection_wrapper\n"
     ]
    }
   ],
   "source": [
    "from collections import namedtuple\n",
    "\n",
    "import numpy as np\n",
    "import numpy.matlib as npm\n",
    "import matplotlib.pyplot as plt\n",
    "import matplotlib.image as mpimg\n",
    "from mpl_toolkits.mplot3d import Axes3D\n",
    "import h5py\n",
    "import face_alignment\n",
    "\n",
    "from _3DMM import _3DMM\n",
    "import fitting"
   ]
  },
  {
   "cell_type": "code",
   "execution_count": 2,
   "metadata": {},
   "outputs": [
    {
     "data": {
      "text/plain": [
       "<module 'fitting' from '/home/mint/PycharmProjects/bidimensional-face-morph/fitting.py'>"
      ]
     },
     "execution_count": 2,
     "metadata": {},
     "output_type": "execute_result"
    }
   ],
   "source": [
    "import importlib\n",
    "importlib.reload(fitting)"
   ]
  },
  {
   "cell_type": "code",
   "execution_count": null,
   "metadata": {},
   "outputs": [
    {
     "name": "stderr",
     "output_type": "stream",
     "text": [
      "/home/mint/.local/lib/python3.8/site-packages/torch/nn/functional.py:718: UserWarning: Named tensors and all their associated APIs are an experimental feature and subject to change. Please do not use them for anything important until they are released as stable. (Triggered internally at  /pytorch/c10/core/TensorImpl.h:1156.)\n",
      "  return torch.max_pool2d(input, kernel_size, stride, padding, dilation, ceil_mode)\n"
     ]
    }
   ],
   "source": [
    "fa = face_alignment.FaceAlignment(face_alignment.LandmarksType._2D, device='cpu')\n",
    "\n",
    "input_img = mpimg.imread('LR/claudio_ferrari/rgbReg_frames/0001/1916.jpg')\n",
    "preds = fa.get_landmarks_from_image(input_img)[-1]\n",
    "\n",
    "# 2D-Plot\n",
    "pred_type = namedtuple('prediction_type', ['slice', 'color'])\n",
    "pred_types = {'face': pred_type(slice(0, 17), 'C0'),\n",
    "              'eyebrow1': pred_type(slice(17, 22), 'C1'),\n",
    "              'eyebrow2': pred_type(slice(22, 27), 'C1'),\n",
    "              'nose': pred_type(slice(27, 31), 'C2'),\n",
    "              'nostril': pred_type(slice(31, 36), 'C3'),\n",
    "              'eye1': pred_type(slice(36, 42), 'C4'),\n",
    "              'eye2': pred_type(slice(42, 48), 'C4'),\n",
    "              'lips': pred_type(slice(48, 60), 'C5'),\n",
    "              'teeth': pred_type(slice(60, 68), 'C6')\n",
    "              }\n",
    "\n",
    "fig, ax = plt.subplots()\n",
    "ax.imshow(input_img)\n",
    "\n",
    "for pred_type in pred_types.values():\n",
    "    ax.plot(preds[pred_type.slice, 0],\n",
    "            preds[pred_type.slice, 1],\n",
    "            color=pred_type.color,\n",
    "            marker='o')\n",
    "\n",
    "ax.axis(False);\n",
    "\n",
    "#plt.show()"
   ]
  },
  {
   "cell_type": "code",
   "execution_count": null,
   "metadata": {
    "scrolled": true
   },
   "outputs": [],
   "source": [
    "%matplotlib --list"
   ]
  },
  {
   "cell_type": "code",
   "execution_count": null,
   "metadata": {
    "scrolled": true
   },
   "outputs": [],
   "source": [
    "#%matplotlib widget"
   ]
  },
  {
   "cell_type": "code",
   "execution_count": null,
   "metadata": {
    "scrolled": true
   },
   "outputs": [],
   "source": [
    "result = fitting.fit_3dmm(preds)\n",
    "\n",
    "fig = plt.figure()\n",
    "ax = fig.add_subplot(1, 1, 1, projection='3d', elev=90, azim=-90)\n",
    "#ax.mouse_init()\n",
    "#ax.view_init(90, -90)\n",
    "\n",
    "#def_shape = result['defShape']\n",
    "#ax.scatter3D(*def_shape.transpose(), s=1, c=def_shape[:, 2])\n",
    "ax.plot_trisurf(*result['defShape'].transpose(), cmap='viridis')"
   ]
  },
  {
   "cell_type": "code",
   "execution_count": null,
   "metadata": {},
   "outputs": [],
   "source": [
    "fa = face_alignment.FaceAlignment(face_alignment.LandmarksType._2D, device='cpu')\n",
    "\n",
    "input_img = mpimg.imread('LR/claudio_ferrari/rgbReg_frames/0002/3029.jpg')\n",
    "preds = fa.get_landmarks_from_image(input_img)[-1]\n",
    "\n",
    "# 2D-Plot\n",
    "pred_type = namedtuple('prediction_type', ['slice', 'color'])\n",
    "pred_types = {'face': pred_type(slice(0, 17), 'C0'),\n",
    "              'eyebrow1': pred_type(slice(17, 22), 'C1'),\n",
    "              'eyebrow2': pred_type(slice(22, 27), 'C1'),\n",
    "              'nose': pred_type(slice(27, 31), 'C2'),\n",
    "              'nostril': pred_type(slice(31, 36), 'C3'),\n",
    "              'eye1': pred_type(slice(36, 42), 'C4'),\n",
    "              'eye2': pred_type(slice(42, 48), 'C4'),\n",
    "              'lips': pred_type(slice(48, 60), 'C5'),\n",
    "              'teeth': pred_type(slice(60, 68), 'C6')\n",
    "              }\n",
    "\n",
    "fig, ax = plt.subplots()\n",
    "ax.imshow(input_img)\n",
    "\n",
    "for pred_type in pred_types.values():\n",
    "    ax.plot(preds[pred_type.slice, 0],\n",
    "            preds[pred_type.slice, 1],\n",
    "            color=pred_type.color,\n",
    "            marker='o')\n",
    "\n",
    "ax.axis(False);\n",
    "\n",
    "#plt.show()"
   ]
  },
  {
   "cell_type": "code",
   "execution_count": null,
   "metadata": {},
   "outputs": [],
   "source": [
    "result = fitting.fit_3dmm1(preds)\n",
    "\n",
    "\n",
    "fig = plt.figure()\n",
    "ax = fig.add_subplot(111, projection='3d')\n",
    "\n",
    "ax.scatter3D(result['defShape'][:, 0],\n",
    "             result['defShape'][:, 1],\n",
    "             result['defShape'][:, 2],\n",
    "             c=result['defShape'][:, 2])\n",
    "\n",
    "ax.view_init(90, -90)"
   ]
  },
  {
   "cell_type": "code",
   "execution_count": null,
   "metadata": {},
   "outputs": [],
   "source": []
  }
 ],
 "metadata": {
  "kernelspec": {
   "display_name": "Python 3",
   "language": "python",
   "name": "python3"
  },
  "language_info": {
   "codemirror_mode": {
    "name": "ipython",
    "version": 3
   },
   "file_extension": ".py",
   "mimetype": "text/x-python",
   "name": "python",
   "nbconvert_exporter": "python",
   "pygments_lexer": "ipython3",
   "version": "3.8.10"
  }
 },
 "nbformat": 4,
 "nbformat_minor": 4
}
